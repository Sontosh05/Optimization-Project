{
 "cells": [
  {
   "cell_type": "code",
   "execution_count": 1,
   "id": "17464856",
   "metadata": {},
   "outputs": [
    {
     "name": "stderr",
     "output_type": "stream",
     "text": [
      "WARNING: using Polynomials.vander in module Main conflicts with an existing identifier.\n"
     ]
    },
    {
     "data": {
      "text/plain": [
       "Lagrange (generic function with 1 method)"
      ]
     },
     "execution_count": 1,
     "metadata": {},
     "output_type": "execute_result"
    }
   ],
   "source": [
    "using Plots\n",
    "include(\"polyfit_function.jl\")\n",
    "include(\"Lagrange_interpolation.jl\")"
   ]
  },
  {
   "cell_type": "code",
   "execution_count": 2,
   "id": "638df69d",
   "metadata": {},
   "outputs": [
    {
     "data": {
      "text/plain": [
       "ab2 (generic function with 1 method)"
      ]
     },
     "execution_count": 2,
     "metadata": {},
     "output_type": "execute_result"
    }
   ],
   "source": [
    "# Two-step Adams Bashforth Scheme (Explicit)\n",
    "\n",
    "function ab2(f, tspan, y0, N)\n",
    "    h = (tspan[2] - tspan[1]) / N\n",
    "    t = Vector(range(tspan[1], tspan[2], length=N+1))\n",
    "    y = zeros(N + 1, 1)\n",
    "    y[1] = y0\n",
    "    k1=h*f(t[1], y[1])\n",
    "    k2=h*f(t[1]+h, y[1]+k1)\n",
    "    y[2]=y[1]+0.5*(k1+k2)\n",
    "    # Two -step AB steps\n",
    "    for i in 1:(N-1)\n",
    "        y[i + 2] = y[i + 1] + (3/2) *h* f(t[i+1], y[i+1]) - 0.5 *h* f(t[i], y[i])\n",
    "    end\n",
    "\n",
    "    return t, y\n",
    "end"
   ]
  },
  {
   "cell_type": "code",
   "execution_count": 3,
   "id": "b151d27e",
   "metadata": {},
   "outputs": [
    {
     "data": {
      "text/plain": [
       "ridc_step (generic function with 1 method)"
      ]
     },
     "execution_count": 3,
     "metadata": {},
     "output_type": "execute_result"
    }
   ],
   "source": [
    "function ridc_step(f, tspan, y0, h, K)\n",
    "    \n",
    "    # Embedding AB-2 into RIDC\n",
    "    # AB-2 update takes the form \n",
    "    # y_(n+1)= y_n + (3/2)*h*f(t_n, y_n) - (1/2)*h*f(t_(n-1), y_(n-1)).\n",
    "    \n",
    "    y=zeros(1, N+1, K+1)\n",
    "    \n",
    "    t, y[1, :, 1]=ab2(f, tspan, y0, N) # storing the provisional solution\n",
    "   \n",
    "   for k in 1:K\n",
    "        y[1, 1, k+1]=y0 # initial condition\n",
    "        nfval=f(t, y[1, :, k]) # New function value\n",
    "        \n",
    "        # (2k+2) equi-spaced nodes are used where k is the iteration number. \n",
    "        \n",
    "        # First step computed by Trapezoidal RK2 (Explicit)\n",
    "        Qdr=Lagrange(t[1:(2*k+2)], nfval[1:(2*k+2)], t[1], t[2]) # Quadrature\n",
    "        k1= h*(f(t[1], y[1, 1, k+1])- f(t[1], y[1, 1, k]))\n",
    "        k2= h*(f(t[1] + h, y[1, 1, k+1] + k1 + Qdr) - f(t[1]+h, y[1, 2, k])) \n",
    "        \n",
    "        y[1, 2, k+1]=y[1, 1, k+1] + k1/2 + k2/2 + Qdr\n",
    "        \n",
    "        \n",
    "        \n",
    "        # First nth steps\n",
    "        for n in 3:(2*k+1)\n",
    "            Q= Lagrange(t[1:(2*k+2)], nfval[1:(2*k+2)], t[n-1], t[n])\n",
    "            b1= (3/2)* h*(f(t[n-1], y[1, n-1, k+1]) - f(t[n-1], y[1, n-1, k]))\n",
    "            b2= (1/2)* h*(f(t[n-2], y[1, n-2, k+1]) - f(t[n-2], y[1, n-2, k]))\n",
    "            y[1, n, k+1]= y[1, n-1, k+1] + b1 - b2 + Q\n",
    "        end\n",
    "        \n",
    "        for j in (2*k+2):(N+1)\n",
    "            Q = Lagrange(t[j-(2*k+1):j], nfval[j-(2*k+1):j], t[j-1], t[j])\n",
    "            b1= (3/2)* h*(f(t[j-1], y[1, j-1, k+1]) - f(t[j-1], y[1, j-1, k]))\n",
    "            b2= (1/2)* h*(f(t[j-2], y[1, j-2, k+1]) - f(t[j-2], y[1, j-2, k]))\n",
    "            y[1, j, k+1]= y[1, j-1, k+1] + b1 - b2 + Q\n",
    "        end\n",
    "            \n",
    "    end\n",
    "    return y\n",
    "end"
   ]
  },
  {
   "cell_type": "code",
   "execution_count": 13,
   "id": "41d8867f",
   "metadata": {},
   "outputs": [
    {
     "data": {
      "text/plain": [
       "0.08137465843457292"
      ]
     },
     "execution_count": 13,
     "metadata": {},
     "output_type": "execute_result"
    }
   ],
   "source": [
    "# Example 1: y'=lambda* y, y(0)=1; T in [0, 10]\n",
    "\n",
    "using Plots\n",
    "P = 6\n",
    "y0 = 1.0\n",
    "lambda= -1\n",
    "tspan=[0 1]\n",
    "K = 2\n",
    "\n",
    "N = 6\n",
    "\n",
    "h1 = 1 / N\n",
    "f(t, y) = lambda * y\n",
    "\n",
    "y1 = ridc_step(f, [0 1], y0, h1, K)\n",
    "\n",
    "exact = y0 * exp(lambda * 1)\n",
    "\n",
    "h2=(1 - 1/2) / N\n",
    "\n",
    "y2=ridc_step(f, [1/2 1], y1[1, N+1, K+1], h2, K)\n",
    "\n",
    "h3=(1/2-0)/N\n",
    "y11=ridc_step(f, [0 1/2], y0, h3, K)\n",
    "\n",
    "h4= (1/2-1/4)/ N\n",
    "y22= ridc_step(f, [1/4 1/2], y11[1, N+1, K+1], h4, K)\n",
    "\n",
    "h5= (3/4-1/2)/ N\n",
    "y33 = ridc_step(f, [1/2 3/4], y22[1, N+1, K+1], h5, K)\n",
    "\n",
    "h6=(1 - 3/4)/ N\n",
    "y44 = ridc_step(f, [3/4 1], y33[1, N+1, K+1], h6, K)\n",
    "\n",
    "err4= abs(exact-y44[1, N+1, K+1])"
   ]
  },
  {
   "cell_type": "code",
   "execution_count": null,
   "id": "6bcbdd8d",
   "metadata": {},
   "outputs": [],
   "source": []
  }
 ],
 "metadata": {
  "kernelspec": {
   "display_name": "Julia 1.7.1",
   "language": "julia",
   "name": "julia-1.7"
  },
  "language_info": {
   "file_extension": ".jl",
   "mimetype": "application/julia",
   "name": "julia",
   "version": "1.7.1"
  }
 },
 "nbformat": 4,
 "nbformat_minor": 5
}
