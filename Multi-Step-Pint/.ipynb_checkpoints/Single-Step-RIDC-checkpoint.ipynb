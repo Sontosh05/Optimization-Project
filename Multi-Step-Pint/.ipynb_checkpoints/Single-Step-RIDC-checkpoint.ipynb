{
 "cells": [
  {
   "cell_type": "code",
   "execution_count": 8,
   "id": "17464856",
   "metadata": {},
   "outputs": [
    {
     "name": "stderr",
     "output_type": "stream",
     "text": [
      "WARNING: using Polynomials.vander in module Main conflicts with an existing identifier.\n"
     ]
    },
    {
     "data": {
      "text/plain": [
       "Lagrange (generic function with 1 method)"
      ]
     },
     "execution_count": 8,
     "metadata": {},
     "output_type": "execute_result"
    }
   ],
   "source": [
    "using Plots\n",
    "include(\"polyfit_function.jl\")\n",
    "include(\"Lagrange_interpolation.jl\")"
   ]
  },
  {
   "cell_type": "code",
   "execution_count": 1,
   "id": "638df69d",
   "metadata": {},
   "outputs": [
    {
     "data": {
      "text/plain": [
       "ab2 (generic function with 1 method)"
      ]
     },
     "execution_count": 1,
     "metadata": {},
     "output_type": "execute_result"
    }
   ],
   "source": [
    "# Two-step Adams Bashforth Scheme (Explicit)\n",
    "\n",
    "function ab2(f, tspan, y0, N)\n",
    "    h = (tspan[2] - tspan[1]) / N\n",
    "    t = Vector(range(tspan[1], tspan[2], length=N+1))\n",
    "    y = zeros(N + 1, 1)\n",
    "    y[1] = y0\n",
    "    k1=h*f(t[1], y[1])\n",
    "    k2=h*f(t[1]+h, y[1]+k1)\n",
    "    y[2]=y[1]+0.5*(k1+k2)\n",
    "    # Two -step AB steps\n",
    "    for i in 1:(N-1)\n",
    "        y[i + 2] = y[i + 1] + (3/2) *h* f(t[i+1], y[i+1]) - 0.5 *h* f(t[i], y[i])\n",
    "    end\n",
    "\n",
    "    return t, y\n",
    "end"
   ]
  },
  {
   "cell_type": "code",
   "execution_count": 5,
   "id": "b151d27e",
   "metadata": {},
   "outputs": [
    {
     "data": {
      "text/plain": [
       "ridc_1s (generic function with 1 method)"
      ]
     },
     "execution_count": 5,
     "metadata": {},
     "output_type": "execute_result"
    }
   ],
   "source": [
    "function ridc_1s(f, tspan, y0, K)\n",
    "    \n",
    "    # Embedding AB-2 into RIDC\n",
    "    # AB-2 update takes the form \n",
    "    # y_(n+1)= y_n + (3/2)*h*f(t_n, y_n) - (1/2)*h*f(t_(n-1), y_(n-1)).\n",
    "    \n",
    "    y=zeros(1, N+1, K+1)\n",
    "    \n",
    "    t, y[1, :, 1]=ab2(f, tspan, y0, N) # storing the provisional solution\n",
    "   \n",
    "   for k in 1:K\n",
    "        y[1, 1, k+1]=y0 # initial condition\n",
    "        nfval=f(t, y[1, :, k]) # New function value\n",
    "        \n",
    "        # (2k+2) equi-spaced nodes are used where k is the iteration number. \n",
    "        \n",
    "        # First step computed by Trapezoidal RK2 (Explicit)\n",
    "        Qdr=Lagrange(t[1:(2*k+2)], nfval[1:(2*k+2)], t[1], t[2]) # Quadrature\n",
    "        k1= h*(f(t[1], y[1, 1, k+1])- f(t[1], y[1, 1, k]))\n",
    "        k2= h*(f(t[1] + h, y[1, 1, k+1] + k1 + Qdr) - f(t[1]+h, y[1, 2, k])) \n",
    "        \n",
    "        y[1, 2, k+1]=y[1, 1, k+1] + k1/2 + k2/2 + Qdr\n",
    "        \n",
    "        \n",
    "        \n",
    "        # First nth steps\n",
    "        for n in 3:(2*k+1)\n",
    "            Q= Lagrange(t[1:(2*k+2)], nfval[1:(2*k+2)], t[n-1], t[n])\n",
    "            b1= (3/2)* h*(f(t[n-1], y[1, n-1, k+1]) - f(t[n-1], y[1, n-1, k]))\n",
    "            b2= (1/2)* h*(f(t[n-2], y[1, n-2, k+1]) - f(t[n-2], y[1, n-2, k]))\n",
    "            y[1, n, k+1]= y[1, n-1, k+1] + b1 - b2 + Q\n",
    "        end\n",
    "        \n",
    "        for j in (2*k+2):(N+1)\n",
    "            Q = Lagrange(t[j-(2*k+1):j], nfval[j-(2*k+1):j], t[j-1], t[j])\n",
    "            b1= (3/2)* h*(f(t[j-1], y[1, j-1, k+1]) - f(t[j-1], y[1, j-1, k]))\n",
    "            b2= (1/2)* h*(f(t[j-2], y[1, j-2, k+1]) - f(t[j-2], y[1, j-2, k]))\n",
    "            y[1, j, k+1]= y[1, j-1, k+1] + b1 - b2 + Q\n",
    "        end\n",
    "            \n",
    "    end\n",
    "    return t,  y\n",
    "end"
   ]
  },
  {
   "cell_type": "code",
   "execution_count": 11,
   "id": "41d8867f",
   "metadata": {},
   "outputs": [
    {
     "ename": "LoadError",
     "evalue": "MethodError: no method matching polyfit(::Float64, ::Float64, ::Int64)\n\u001b[0mClosest candidates are:\n\u001b[0m  polyfit(\u001b[91m::AbstractVector\u001b[39m, \u001b[91m::AbstractVector\u001b[39m, ::Any) at ~/Draft-Project/Multi-Step-Pint/polyfit_function.jl:21",
     "output_type": "error",
     "traceback": [
      "MethodError: no method matching polyfit(::Float64, ::Float64, ::Int64)\n\u001b[0mClosest candidates are:\n\u001b[0m  polyfit(\u001b[91m::AbstractVector\u001b[39m, \u001b[91m::AbstractVector\u001b[39m, ::Any) at ~/Draft-Project/Multi-Step-Pint/polyfit_function.jl:21",
      "",
      "Stacktrace:",
      " [1] top-level scope",
      "   @ In[11]:30"
     ]
    }
   ],
   "source": [
    "# Example 1: y'=lambda* y, y(0)=1; T in [0, 10]\n",
    "\n",
    "using Plots\n",
    "P = 6\n",
    "y0 = 1.0\n",
    "lambda= -1\n",
    "tspan=[0 1]\n",
    "K = 1\n",
    "err = zeros(K)\n",
    "\n",
    "\n",
    "    N = 6\n",
    "    \n",
    "    h = (tspan[2] - tspan[1]) / N\n",
    "    f(t, y) = lambda * y\n",
    "    \n",
    "    (t, y) = ridc_1s(f, tspan, y0, K)\n",
    "    \n",
    "    exact = y0 * exp.(lambda * t)\n",
    "   \n",
    "    # Storing errors\n",
    "    \n",
    "    # Storing errors\n",
    "    for i in 1:K\n",
    "        err[i] = norm(exact[N+1] .- y[1, N+1, i])\n",
    "    end\n",
    "\n",
    "\n",
    "# Compute order of convergence and error plot\n",
    "pdeg = polyfit(log10.(N), log10.(err[1]),1)\n",
    "print(\"convergence order = \",abs(pdeg[2]),\"\\n\")\n",
    "plot(N, err[1],xaxis=:log, yaxis=:log, label=\"Predictor\")"
   ]
  },
  {
   "cell_type": "code",
   "execution_count": null,
   "id": "5631e05e",
   "metadata": {},
   "outputs": [],
   "source": []
  }
 ],
 "metadata": {
  "kernelspec": {
   "display_name": "Julia 1.7.1",
   "language": "julia",
   "name": "julia-1.7"
  },
  "language_info": {
   "file_extension": ".jl",
   "mimetype": "application/julia",
   "name": "julia",
   "version": "1.7.1"
  }
 },
 "nbformat": 4,
 "nbformat_minor": 5
}
